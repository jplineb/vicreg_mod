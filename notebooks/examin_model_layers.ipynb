{
 "cells": [
  {
   "cell_type": "code",
   "execution_count": null,
   "metadata": {},
   "outputs": [],
   "source": [
    "from custom_datasets.chexpert import Chexpert\n",
    "\n",
    "chexpert = Chexpert()\n",
    "\n",
    "test_loader = chexpert.get_dataloader(split=\"test\")"
   ]
  },
  {
   "cell_type": "code",
   "execution_count": null,
   "metadata": {},
   "outputs": [],
   "source": [
    "# Load model\n",
    "model = LoadVICRegModel(\"resnet50\")"
   ]
  }
 ],
 "metadata": {
  "kernelspec": {
   "display_name": "disres",
   "language": "python",
   "name": "python3"
  },
  "language_info": {
   "name": "python",
   "version": "3.11.1"
  }
 },
 "nbformat": 4,
 "nbformat_minor": 2
}
